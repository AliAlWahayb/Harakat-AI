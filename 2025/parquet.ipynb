{
 "cells": [
  {
   "cell_type": "code",
   "execution_count": 1,
   "id": "60fe729a",
   "metadata": {},
   "outputs": [
    {
     "name": "stdout",
     "output_type": "stream",
     "text": [
      "Processed file: Arabic-Diacritized-TTS/data\\train-00000-of-00013.parquet\n",
      "Processed file: Arabic-Diacritized-TTS/data\\train-00001-of-00013.parquet\n",
      "Processed file: Arabic-Diacritized-TTS/data\\train-00002-of-00013.parquet\n",
      "Processed file: Arabic-Diacritized-TTS/data\\train-00003-of-00013.parquet\n",
      "Processed file: Arabic-Diacritized-TTS/data\\train-00004-of-00013.parquet\n",
      "Processed file: Arabic-Diacritized-TTS/data\\train-00005-of-00013.parquet\n",
      "Processed file: Arabic-Diacritized-TTS/data\\train-00006-of-00013.parquet\n",
      "Processed file: Arabic-Diacritized-TTS/data\\train-00007-of-00013.parquet\n",
      "Processed file: Arabic-Diacritized-TTS/data\\train-00008-of-00013.parquet\n",
      "Processed file: Arabic-Diacritized-TTS/data\\train-00009-of-00013.parquet\n",
      "Processed file: Arabic-Diacritized-TTS/data\\train-00010-of-00013.parquet\n",
      "Processed file: Arabic-Diacritized-TTS/data\\train-00011-of-00013.parquet\n",
      "Processed file: Arabic-Diacritized-TTS/data\\train-00012-of-00013.parquet\n"
     ]
    }
   ],
   "source": [
    "import pandas as pd\n",
    "import os\n",
    "import glob\n",
    "\n",
    "# Define the path where your parquet files are located\n",
    "file_path = 'Arabic-Diacritized-TTS/data'\n",
    "\n",
    "# List all .parquet files in the directory\n",
    "parquet_files = glob.glob(os.path.join(file_path, '*.parquet'))\n",
    "\n",
    "# Process each .parquet file\n",
    "for parquet_file in parquet_files:\n",
    "    # Load the parquet file into a dataframe\n",
    "    df = pd.read_parquet(parquet_file)\n",
    "    \n",
    "    # Remove the first column (audio data)\n",
    "    df_cleaned = df.drop(df.columns[0], axis=1)\n",
    "    \n",
    "    # Extract the transcription column and save to CSV\n",
    "    transcription_column = df_cleaned.columns[0]  # Assuming the second column is 'transcription'\n",
    "    df_cleaned[[transcription_column]].to_csv(parquet_file.replace('.parquet', '_transcription.csv'), index=False)\n",
    "\n",
    "    print(f\"Processed file: {parquet_file}\")\n"
   ]
  }
 ],
 "metadata": {
  "kernelspec": {
   "display_name": "Python 3",
   "language": "python",
   "name": "python3"
  },
  "language_info": {
   "codemirror_mode": {
    "name": "ipython",
    "version": 3
   },
   "file_extension": ".py",
   "mimetype": "text/x-python",
   "name": "python",
   "nbconvert_exporter": "python",
   "pygments_lexer": "ipython3",
   "version": "3.11.1"
  }
 },
 "nbformat": 4,
 "nbformat_minor": 5
}
